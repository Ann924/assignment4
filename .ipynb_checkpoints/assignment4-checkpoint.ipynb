{
 "cells": [
  {
   "cell_type": "markdown",
   "id": "e0c7b14a-e5aa-4abc-b48b-b8a9d20dacac",
   "metadata": {},
   "source": [
    "# Assignment #4: Linear Models and Decision Trees\n",
    "## Foundations of Machine Learning\n",
    "## Do Q1 and one other question.\n",
    "### Advice: Reuse your code and code from lectures, package routine tasks into functions, make plans about how you'll carry out the analysis before jumping into writing code, and work as efficiently as possible"
   ]
  },
  {
   "cell_type": "code",
   "execution_count": 8,
   "id": "61a2ca21",
   "metadata": {},
   "outputs": [
    {
     "name": "stdout",
     "output_type": "stream",
     "text": [
      "Collecting scikit-learn\n",
      "  Downloading scikit_learn-1.3.2-cp310-cp310-win_amd64.whl (9.3 MB)\n",
      "     ---------------------------------------- 9.3/9.3 MB 17.4 MB/s eta 0:00:00\n",
      "Collecting joblib>=1.1.1\n",
      "  Downloading joblib-1.3.2-py3-none-any.whl (302 kB)\n",
      "     ------------------------------------- 302.2/302.2 kB 18.2 MB/s eta 0:00:00\n",
      "Requirement already satisfied: scipy>=1.5.0 in c:\\users\\al146\\appdata\\roaming\\python\\python310\\site-packages (from scikit-learn) (1.9.1)\n",
      "Collecting threadpoolctl>=2.0.0\n",
      "  Downloading threadpoolctl-3.2.0-py3-none-any.whl (15 kB)\n",
      "Requirement already satisfied: numpy<2.0,>=1.17.3 in c:\\users\\al146\\appdata\\local\\programs\\python\\python310\\lib\\site-packages (from scikit-learn) (1.22.3)\n",
      "Installing collected packages: threadpoolctl, joblib, scikit-learn\n",
      "  Attempting uninstall: joblib\n",
      "    Found existing installation: joblib 1.1.0\n",
      "    Uninstalling joblib-1.1.0:\n",
      "      Successfully uninstalled joblib-1.1.0\n",
      "Successfully installed joblib-1.3.2 scikit-learn-1.3.2 threadpoolctl-3.2.0\n"
     ]
    },
    {
     "name": "stderr",
     "output_type": "stream",
     "text": [
      "\n",
      "[notice] A new release of pip available: 22.2.2 -> 23.3.1\n",
      "[notice] To update, run: python.exe -m pip install --upgrade pip\n"
     ]
    }
   ],
   "source": [
    "!pip install scikit-learn"
   ]
  },
  {
   "cell_type": "code",
   "execution_count": 81,
   "id": "aa90f43d",
   "metadata": {},
   "outputs": [],
   "source": [
    "from sklearn import tree\n",
    "import matplotlib.pyplot as plt\n",
    "import seaborn as sns\n",
    "import pandas as pd\n",
    "from sklearn.preprocessing import LabelBinarizer\n",
    "import numpy as np"
   ]
  },
  {
   "cell_type": "code",
   "execution_count": 115,
   "id": "c6bece11",
   "metadata": {},
   "outputs": [],
   "source": [
    "## Decision Trees sample code:\n",
    "\n",
    "def maxmin(z):\n",
    "    z = (z-min(z))/(max(z)-min(z))\n",
    "    return(z)\n",
    "\n",
    "def encode_categorical(df):\n",
    "    \n",
    "    categorical_vars = list(df.select_dtypes(['object']).columns)\n",
    "    \n",
    "    data = []\n",
    "    for var in categorical_vars:\n",
    "        one_hot_encoder = LabelBinarizer()\n",
    "        oh = one_hot_encoder.fit_transform(df[var]) # One-hot encode the 'bird' variable\n",
    "        names = [f\"{var}-{class_name}\" for class_name in one_hot_encoder.classes_] # Get names of the classes\n",
    "        print(f\"{var}: {names}\")\n",
    "        if len(names)<=2:\n",
    "            names = [\"is_\" + names[0]]\n",
    "        var_df = pd.DataFrame(data = oh, columns = names)\n",
    "        data.append(var_df)\n",
    "    \n",
    "    #print(data)\n",
    "    \n",
    "    categorical_df = pd.concat(data, axis=1)\n",
    "    df = pd.concat([df[[c for c in df.columns if c not in categorical_vars]], categorical_df], axis=1)\n",
    "    \n",
    "    return df\n",
    "\n",
    "def fit_model(X_train, y_train, max_depth=10):\n",
    "    model = tree.DecisionTreeRegressor(max_depth=max_depth) # Fit the classifier\n",
    "    tree_model = model.fit(X_train, y_train)\n",
    "    #tree.plot_tree(cart,filled=True) \n",
    "    #plt.show()\n",
    "    \n",
    "    return tree_model\n",
    "\n",
    "def predict(model, X_test, y_test):\n",
    "    ## Make Predictions on the Test Set\n",
    "    y_hat = model.predict(X_test)\n",
    "    residuals = y_test - y_hat\n",
    "\n",
    "    ## Residual plot:\n",
    "    sns.kdeplot(residuals)\n",
    "    plt.show()\n",
    "\n",
    "    ## True versus predicted plot:\n",
    "    plt.scatter(x=y_hat,y=y_test)\n",
    "    plt.title('Predicted vs. Actual Values')\n",
    "    plt.show()\n",
    "\n",
    "def calculate_metrics(y_test, y_hat, TSS, N_test):\n",
    "    ## Metrics:\n",
    "    SSE = np.sum( (y_test-y_hat)**2 )\n",
    "    MSE = (1/N_test)*np.sum( (y_test-y_hat)**2 )\n",
    "    RMSE = (SSE/N_test)**(1/2)\n",
    "    R2 = 1 - SSE/TSS\n",
    "    \n",
    "    print(f\"SSE: {SSE}\")\n",
    "    print(f\"MSE: {MSE}\")\n",
    "    print(f\"RMSE: {RMSE}\")\n",
    "    print(f\"R2: {R2}\")\n",
    "    \n",
    "    return RMSE, R2"
   ]
  },
  {
   "cell_type": "markdown",
   "id": "95f22300-0180-4ed2-be8f-ed56cf4cd36b",
   "metadata": {},
   "source": [
    "**Q1.** This question is a case study for linear models and decision trees. The data are about car prices. In particular, they include:\n",
    "\n",
    "  - `Price`, `Color`, `Seating_Capacity`\n",
    "  - `Body_Type`: crossover, hatchback, muv, sedan, suv \n",
    "  - `Make`, `Make_Year`: The brand of car and year produced\n",
    "  - `Mileage_Run`: The number of miles on the odometer\n",
    "  - `Fuel_Type`: Diesel or gasoline/petrol\n",
    "  - `Transmission`, `Transmission_Type`:  speeds and automatic/manual\n",
    "\n",
    "  1. Load `cars_hw.csv`. These data were really dirty, and I've already cleaned them a significant amount in terms of missing values and other issues, but some issues remain (e.g. outliers, badly scaled variables that require a log or arcsinh transformation). Clean the data however you think is most appropriate.\n",
    "  2. Summarize the `Price` variable and create a kernel density plot. Use `.groupby()` and `.describe()` to summarize prices by brand (`Make`). Make a grouped kernel density plot by `Make`. Which car brands are the most expensive? What do prices look like in general?\n",
    "  3. Split the data into an 80% training set and a 20% testing set.\n",
    "  4. Let's focus on linear models. Make a model where you regress price on the numeric variables alone; what is the $R^2$ and `RMSE` on the test set? Make a second model where, for the categorical variables, make a model comprised of one-hot encoded regressors/features alone, and regress price on those variables; what is the $R^2$ and `RMSE` on the test set? Which model performs better on the test set? Make a third model that combines all the regressors from the previous two; what is the $R^2$ and `RMSE` on the test set? Does the joint model perform better or worse, and by home much?\n",
    "  5. Use the `PolynomialFeatures` function from `sklearn` to expand the set of numerical variables you're using, along with the categorical variables. As you increase the degree of the expansion, how do the $R^2$ and `RMSE` change? At what point does $R^2$ go negative on the test set? For your best model with expanded features, what is the $R^2$ and `RMSE`? How does it compare to your best model from part 3?\n",
    "  6. For your best model so far, determine the predicted values for the test data and plot them against the true values. Do the predicted values and true values roughly line up along the diagonal, or not? Compute the residuals/errors for the test data and create a kernel density plot. Do the residuals look roughly bell-shaped around zero? Evaluate the strengths and weaknesses of your model.\n",
    "  7. Now, let's use a regression tree. Construct an appropriate matrix of regressors/features, and fit a tree to the data. Vary the maximum depth of the decision tree using the `max_depth` option (i.e. `tree.DecisionTreeRegressor(max_depth=D)`), and compute the $R^2$ and `RMSE` on the test set of a variety of depths. What depth tree gives the best results?\n",
    "  8. For your best tree, determine the predicted values for the test data, and plot them against the true values. Do the predicted values and true values line up along the diagonal, or not? Compute the residuals/errors for the test data and create a kernel density plot. Do the residuals look roughly bell-shaped around zero?\n",
    "  12. Which model --- linear model or classification and regression tree --- has better performance on the test set?"
   ]
  },
  {
   "cell_type": "markdown",
   "id": "75d67e0f",
   "metadata": {},
   "source": [
    "__ANSWERS:__"
   ]
  },
  {
   "cell_type": "markdown",
   "id": "28cd52dc",
   "metadata": {},
   "source": [
    "1. Load `cars_hw.csv`. These data were really dirty, and I've already cleaned them a significant amount in terms of missing values and other issues, but some issues remain (e.g. outliers, badly scaled variables that require a log or arcsinh transformation). Clean the data however you think is most appropriate."
   ]
  },
  {
   "cell_type": "code",
   "execution_count": 66,
   "id": "71472317",
   "metadata": {},
   "outputs": [],
   "source": [
    "df = pd.read_csv('./data/cars_hw.csv')"
   ]
  },
  {
   "cell_type": "code",
   "execution_count": 67,
   "id": "d157b9b1",
   "metadata": {},
   "outputs": [
    {
     "name": "stdout",
     "output_type": "stream",
     "text": [
      "<class 'pandas.core.frame.DataFrame'>\n",
      "RangeIndex: 976 entries, 0 to 975\n",
      "Data columns (total 12 columns):\n",
      " #   Column             Non-Null Count  Dtype \n",
      "---  ------             --------------  ----- \n",
      " 0   Unnamed: 0         976 non-null    int64 \n",
      " 1   Make               976 non-null    object\n",
      " 2   Make_Year          976 non-null    int64 \n",
      " 3   Color              976 non-null    object\n",
      " 4   Body_Type          976 non-null    object\n",
      " 5   Mileage_Run        976 non-null    int64 \n",
      " 6   No_of_Owners       976 non-null    object\n",
      " 7   Seating_Capacity   976 non-null    int64 \n",
      " 8   Fuel_Type          976 non-null    object\n",
      " 9   Transmission       976 non-null    object\n",
      " 10  Transmission_Type  976 non-null    object\n",
      " 11  Price              976 non-null    int64 \n",
      "dtypes: int64(5), object(7)\n",
      "memory usage: 91.6+ KB\n"
     ]
    }
   ],
   "source": [
    "df.info()"
   ]
  },
  {
   "cell_type": "code",
   "execution_count": 68,
   "id": "7594aa5c",
   "metadata": {},
   "outputs": [
    {
     "name": "stdout",
     "output_type": "stream",
     "text": [
      "Make: ['Make-Chevrolet', 'Make-Datsun', 'Make-Ford', 'Make-Honda', 'Make-Hyundai', 'Make-Jeep', 'Make-Kia', 'Make-MG Motors', 'Make-Mahindra', 'Make-Maruti Suzuki', 'Make-Nissan', 'Make-Renault', 'Make-Skoda', 'Make-Tata', 'Make-Toyota', 'Make-Volkswagen']\n",
      "Color: ['Color-beige', 'Color-black', 'Color-blue', 'Color-bronze', 'Color-brown', 'Color-golden', 'Color-green', 'Color-grey', 'Color-maroon', 'Color-orange', 'Color-purple', 'Color-red', 'Color-silver', 'Color-white', 'Color-yellow']\n",
      "Body_Type: ['Body_Type-crossover', 'Body_Type-hatchback', 'Body_Type-muv', 'Body_Type-sedan', 'Body_Type-suv']\n",
      "No_of_Owners: ['No_of_Owners-1st', 'No_of_Owners-2nd', 'No_of_Owners-3rd']\n",
      "Fuel_Type: ['Fuel_Type-diesel', 'Fuel_Type-petrol', 'Fuel_Type-petrol+cng']\n",
      "Transmission: ['Transmission-4-Speed', 'Transmission-5-Speed', 'Transmission-6-Speed', 'Transmission-7-Speed', 'Transmission-CVT']\n",
      "Transmission_Type: ['Transmission_Type-Automatic', 'Transmission_Type-Manual']\n"
     ]
    }
   ],
   "source": [
    "df_cleaned = encode_categorical(df)"
   ]
  },
  {
   "cell_type": "code",
   "execution_count": 69,
   "id": "a7065584",
   "metadata": {},
   "outputs": [
    {
     "name": "stdout",
     "output_type": "stream",
     "text": [
      "<class 'pandas.core.frame.DataFrame'>\n",
      "RangeIndex: 976 entries, 0 to 975\n",
      "Data columns (total 53 columns):\n",
      " #   Column                          Non-Null Count  Dtype\n",
      "---  ------                          --------------  -----\n",
      " 0   Unnamed: 0                      976 non-null    int64\n",
      " 1   Make_Year                       976 non-null    int64\n",
      " 2   Mileage_Run                     976 non-null    int64\n",
      " 3   Seating_Capacity                976 non-null    int64\n",
      " 4   Price                           976 non-null    int64\n",
      " 5   Make-Chevrolet                  976 non-null    int32\n",
      " 6   Make-Datsun                     976 non-null    int32\n",
      " 7   Make-Ford                       976 non-null    int32\n",
      " 8   Make-Honda                      976 non-null    int32\n",
      " 9   Make-Hyundai                    976 non-null    int32\n",
      " 10  Make-Jeep                       976 non-null    int32\n",
      " 11  Make-Kia                        976 non-null    int32\n",
      " 12  Make-MG Motors                  976 non-null    int32\n",
      " 13  Make-Mahindra                   976 non-null    int32\n",
      " 14  Make-Maruti Suzuki              976 non-null    int32\n",
      " 15  Make-Nissan                     976 non-null    int32\n",
      " 16  Make-Renault                    976 non-null    int32\n",
      " 17  Make-Skoda                      976 non-null    int32\n",
      " 18  Make-Tata                       976 non-null    int32\n",
      " 19  Make-Toyota                     976 non-null    int32\n",
      " 20  Make-Volkswagen                 976 non-null    int32\n",
      " 21  Color-beige                     976 non-null    int32\n",
      " 22  Color-black                     976 non-null    int32\n",
      " 23  Color-blue                      976 non-null    int32\n",
      " 24  Color-bronze                    976 non-null    int32\n",
      " 25  Color-brown                     976 non-null    int32\n",
      " 26  Color-golden                    976 non-null    int32\n",
      " 27  Color-green                     976 non-null    int32\n",
      " 28  Color-grey                      976 non-null    int32\n",
      " 29  Color-maroon                    976 non-null    int32\n",
      " 30  Color-orange                    976 non-null    int32\n",
      " 31  Color-purple                    976 non-null    int32\n",
      " 32  Color-red                       976 non-null    int32\n",
      " 33  Color-silver                    976 non-null    int32\n",
      " 34  Color-white                     976 non-null    int32\n",
      " 35  Color-yellow                    976 non-null    int32\n",
      " 36  Body_Type-crossover             976 non-null    int32\n",
      " 37  Body_Type-hatchback             976 non-null    int32\n",
      " 38  Body_Type-muv                   976 non-null    int32\n",
      " 39  Body_Type-sedan                 976 non-null    int32\n",
      " 40  Body_Type-suv                   976 non-null    int32\n",
      " 41  No_of_Owners-1st                976 non-null    int32\n",
      " 42  No_of_Owners-2nd                976 non-null    int32\n",
      " 43  No_of_Owners-3rd                976 non-null    int32\n",
      " 44  Fuel_Type-diesel                976 non-null    int32\n",
      " 45  Fuel_Type-petrol                976 non-null    int32\n",
      " 46  Fuel_Type-petrol+cng            976 non-null    int32\n",
      " 47  Transmission-4-Speed            976 non-null    int32\n",
      " 48  Transmission-5-Speed            976 non-null    int32\n",
      " 49  Transmission-6-Speed            976 non-null    int32\n",
      " 50  Transmission-7-Speed            976 non-null    int32\n",
      " 51  Transmission-CVT                976 non-null    int32\n",
      " 52  is_Transmission_Type-Automatic  976 non-null    int32\n",
      "dtypes: int32(48), int64(5)\n",
      "memory usage: 221.2 KB\n"
     ]
    }
   ],
   "source": [
    "df_cleaned.info()"
   ]
  },
  {
   "cell_type": "code",
   "execution_count": 70,
   "id": "711ce94e",
   "metadata": {},
   "outputs": [
    {
     "data": {
      "text/html": [
       "<div>\n",
       "<style scoped>\n",
       "    .dataframe tbody tr th:only-of-type {\n",
       "        vertical-align: middle;\n",
       "    }\n",
       "\n",
       "    .dataframe tbody tr th {\n",
       "        vertical-align: top;\n",
       "    }\n",
       "\n",
       "    .dataframe thead th {\n",
       "        text-align: right;\n",
       "    }\n",
       "</style>\n",
       "<table border=\"1\" class=\"dataframe\">\n",
       "  <thead>\n",
       "    <tr style=\"text-align: right;\">\n",
       "      <th></th>\n",
       "      <th>Unnamed: 0</th>\n",
       "      <th>Make_Year</th>\n",
       "      <th>Mileage_Run</th>\n",
       "      <th>Seating_Capacity</th>\n",
       "      <th>Price</th>\n",
       "      <th>Make-Chevrolet</th>\n",
       "      <th>Make-Datsun</th>\n",
       "      <th>Make-Ford</th>\n",
       "      <th>Make-Honda</th>\n",
       "      <th>Make-Hyundai</th>\n",
       "      <th>...</th>\n",
       "      <th>No_of_Owners-3rd</th>\n",
       "      <th>Fuel_Type-diesel</th>\n",
       "      <th>Fuel_Type-petrol</th>\n",
       "      <th>Fuel_Type-petrol+cng</th>\n",
       "      <th>Transmission-4-Speed</th>\n",
       "      <th>Transmission-5-Speed</th>\n",
       "      <th>Transmission-6-Speed</th>\n",
       "      <th>Transmission-7-Speed</th>\n",
       "      <th>Transmission-CVT</th>\n",
       "      <th>is_Transmission_Type-Automatic</th>\n",
       "    </tr>\n",
       "  </thead>\n",
       "  <tbody>\n",
       "    <tr>\n",
       "      <th>count</th>\n",
       "      <td>976.000000</td>\n",
       "      <td>976.000000</td>\n",
       "      <td>976.000000</td>\n",
       "      <td>976.000000</td>\n",
       "      <td>9.760000e+02</td>\n",
       "      <td>976.000000</td>\n",
       "      <td>976.000000</td>\n",
       "      <td>976.000000</td>\n",
       "      <td>976.000000</td>\n",
       "      <td>976.00000</td>\n",
       "      <td>...</td>\n",
       "      <td>976.000000</td>\n",
       "      <td>976.000000</td>\n",
       "      <td>976.000000</td>\n",
       "      <td>976.000000</td>\n",
       "      <td>976.000000</td>\n",
       "      <td>976.000000</td>\n",
       "      <td>976.000000</td>\n",
       "      <td>976.000000</td>\n",
       "      <td>976.000000</td>\n",
       "      <td>976.000000</td>\n",
       "    </tr>\n",
       "    <tr>\n",
       "      <th>mean</th>\n",
       "      <td>488.500000</td>\n",
       "      <td>2016.963115</td>\n",
       "      <td>41571.195697</td>\n",
       "      <td>5.095287</td>\n",
       "      <td>7.410195e+05</td>\n",
       "      <td>0.006148</td>\n",
       "      <td>0.003074</td>\n",
       "      <td>0.053279</td>\n",
       "      <td>0.074795</td>\n",
       "      <td>0.31250</td>\n",
       "      <td>...</td>\n",
       "      <td>0.004098</td>\n",
       "      <td>0.195697</td>\n",
       "      <td>0.802254</td>\n",
       "      <td>0.002049</td>\n",
       "      <td>0.039959</td>\n",
       "      <td>0.767418</td>\n",
       "      <td>0.173156</td>\n",
       "      <td>0.016393</td>\n",
       "      <td>0.003074</td>\n",
       "      <td>0.729508</td>\n",
       "    </tr>\n",
       "    <tr>\n",
       "      <th>std</th>\n",
       "      <td>281.891232</td>\n",
       "      <td>2.818742</td>\n",
       "      <td>24390.995134</td>\n",
       "      <td>0.446224</td>\n",
       "      <td>3.673234e+05</td>\n",
       "      <td>0.078205</td>\n",
       "      <td>0.055385</td>\n",
       "      <td>0.224704</td>\n",
       "      <td>0.263195</td>\n",
       "      <td>0.46375</td>\n",
       "      <td>...</td>\n",
       "      <td>0.063920</td>\n",
       "      <td>0.396939</td>\n",
       "      <td>0.398504</td>\n",
       "      <td>0.045245</td>\n",
       "      <td>0.195963</td>\n",
       "      <td>0.422695</td>\n",
       "      <td>0.378576</td>\n",
       "      <td>0.127048</td>\n",
       "      <td>0.055385</td>\n",
       "      <td>0.444442</td>\n",
       "    </tr>\n",
       "    <tr>\n",
       "      <th>min</th>\n",
       "      <td>1.000000</td>\n",
       "      <td>2011.000000</td>\n",
       "      <td>1117.000000</td>\n",
       "      <td>4.000000</td>\n",
       "      <td>1.880000e+05</td>\n",
       "      <td>0.000000</td>\n",
       "      <td>0.000000</td>\n",
       "      <td>0.000000</td>\n",
       "      <td>0.000000</td>\n",
       "      <td>0.00000</td>\n",
       "      <td>...</td>\n",
       "      <td>0.000000</td>\n",
       "      <td>0.000000</td>\n",
       "      <td>0.000000</td>\n",
       "      <td>0.000000</td>\n",
       "      <td>0.000000</td>\n",
       "      <td>0.000000</td>\n",
       "      <td>0.000000</td>\n",
       "      <td>0.000000</td>\n",
       "      <td>0.000000</td>\n",
       "      <td>0.000000</td>\n",
       "    </tr>\n",
       "    <tr>\n",
       "      <th>25%</th>\n",
       "      <td>244.750000</td>\n",
       "      <td>2015.000000</td>\n",
       "      <td>22676.750000</td>\n",
       "      <td>5.000000</td>\n",
       "      <td>4.757500e+05</td>\n",
       "      <td>0.000000</td>\n",
       "      <td>0.000000</td>\n",
       "      <td>0.000000</td>\n",
       "      <td>0.000000</td>\n",
       "      <td>0.00000</td>\n",
       "      <td>...</td>\n",
       "      <td>0.000000</td>\n",
       "      <td>0.000000</td>\n",
       "      <td>1.000000</td>\n",
       "      <td>0.000000</td>\n",
       "      <td>0.000000</td>\n",
       "      <td>1.000000</td>\n",
       "      <td>0.000000</td>\n",
       "      <td>0.000000</td>\n",
       "      <td>0.000000</td>\n",
       "      <td>0.000000</td>\n",
       "    </tr>\n",
       "    <tr>\n",
       "      <th>50%</th>\n",
       "      <td>488.500000</td>\n",
       "      <td>2017.000000</td>\n",
       "      <td>37570.500000</td>\n",
       "      <td>5.000000</td>\n",
       "      <td>6.665000e+05</td>\n",
       "      <td>0.000000</td>\n",
       "      <td>0.000000</td>\n",
       "      <td>0.000000</td>\n",
       "      <td>0.000000</td>\n",
       "      <td>0.00000</td>\n",
       "      <td>...</td>\n",
       "      <td>0.000000</td>\n",
       "      <td>0.000000</td>\n",
       "      <td>1.000000</td>\n",
       "      <td>0.000000</td>\n",
       "      <td>0.000000</td>\n",
       "      <td>1.000000</td>\n",
       "      <td>0.000000</td>\n",
       "      <td>0.000000</td>\n",
       "      <td>0.000000</td>\n",
       "      <td>1.000000</td>\n",
       "    </tr>\n",
       "    <tr>\n",
       "      <th>75%</th>\n",
       "      <td>732.250000</td>\n",
       "      <td>2019.000000</td>\n",
       "      <td>57421.250000</td>\n",
       "      <td>5.000000</td>\n",
       "      <td>8.830000e+05</td>\n",
       "      <td>0.000000</td>\n",
       "      <td>0.000000</td>\n",
       "      <td>0.000000</td>\n",
       "      <td>0.000000</td>\n",
       "      <td>1.00000</td>\n",
       "      <td>...</td>\n",
       "      <td>0.000000</td>\n",
       "      <td>0.000000</td>\n",
       "      <td>1.000000</td>\n",
       "      <td>0.000000</td>\n",
       "      <td>0.000000</td>\n",
       "      <td>1.000000</td>\n",
       "      <td>0.000000</td>\n",
       "      <td>0.000000</td>\n",
       "      <td>0.000000</td>\n",
       "      <td>1.000000</td>\n",
       "    </tr>\n",
       "    <tr>\n",
       "      <th>max</th>\n",
       "      <td>976.000000</td>\n",
       "      <td>2022.000000</td>\n",
       "      <td>99495.000000</td>\n",
       "      <td>8.000000</td>\n",
       "      <td>2.941000e+06</td>\n",
       "      <td>1.000000</td>\n",
       "      <td>1.000000</td>\n",
       "      <td>1.000000</td>\n",
       "      <td>1.000000</td>\n",
       "      <td>1.00000</td>\n",
       "      <td>...</td>\n",
       "      <td>1.000000</td>\n",
       "      <td>1.000000</td>\n",
       "      <td>1.000000</td>\n",
       "      <td>1.000000</td>\n",
       "      <td>1.000000</td>\n",
       "      <td>1.000000</td>\n",
       "      <td>1.000000</td>\n",
       "      <td>1.000000</td>\n",
       "      <td>1.000000</td>\n",
       "      <td>1.000000</td>\n",
       "    </tr>\n",
       "  </tbody>\n",
       "</table>\n",
       "<p>8 rows × 53 columns</p>\n",
       "</div>"
      ],
      "text/plain": [
       "       Unnamed: 0    Make_Year   Mileage_Run  Seating_Capacity         Price  \\\n",
       "count  976.000000   976.000000    976.000000        976.000000  9.760000e+02   \n",
       "mean   488.500000  2016.963115  41571.195697          5.095287  7.410195e+05   \n",
       "std    281.891232     2.818742  24390.995134          0.446224  3.673234e+05   \n",
       "min      1.000000  2011.000000   1117.000000          4.000000  1.880000e+05   \n",
       "25%    244.750000  2015.000000  22676.750000          5.000000  4.757500e+05   \n",
       "50%    488.500000  2017.000000  37570.500000          5.000000  6.665000e+05   \n",
       "75%    732.250000  2019.000000  57421.250000          5.000000  8.830000e+05   \n",
       "max    976.000000  2022.000000  99495.000000          8.000000  2.941000e+06   \n",
       "\n",
       "       Make-Chevrolet  Make-Datsun   Make-Ford  Make-Honda  Make-Hyundai  ...  \\\n",
       "count      976.000000   976.000000  976.000000  976.000000     976.00000  ...   \n",
       "mean         0.006148     0.003074    0.053279    0.074795       0.31250  ...   \n",
       "std          0.078205     0.055385    0.224704    0.263195       0.46375  ...   \n",
       "min          0.000000     0.000000    0.000000    0.000000       0.00000  ...   \n",
       "25%          0.000000     0.000000    0.000000    0.000000       0.00000  ...   \n",
       "50%          0.000000     0.000000    0.000000    0.000000       0.00000  ...   \n",
       "75%          0.000000     0.000000    0.000000    0.000000       1.00000  ...   \n",
       "max          1.000000     1.000000    1.000000    1.000000       1.00000  ...   \n",
       "\n",
       "       No_of_Owners-3rd  Fuel_Type-diesel  Fuel_Type-petrol  \\\n",
       "count        976.000000        976.000000        976.000000   \n",
       "mean           0.004098          0.195697          0.802254   \n",
       "std            0.063920          0.396939          0.398504   \n",
       "min            0.000000          0.000000          0.000000   \n",
       "25%            0.000000          0.000000          1.000000   \n",
       "50%            0.000000          0.000000          1.000000   \n",
       "75%            0.000000          0.000000          1.000000   \n",
       "max            1.000000          1.000000          1.000000   \n",
       "\n",
       "       Fuel_Type-petrol+cng  Transmission-4-Speed  Transmission-5-Speed  \\\n",
       "count            976.000000            976.000000            976.000000   \n",
       "mean               0.002049              0.039959              0.767418   \n",
       "std                0.045245              0.195963              0.422695   \n",
       "min                0.000000              0.000000              0.000000   \n",
       "25%                0.000000              0.000000              1.000000   \n",
       "50%                0.000000              0.000000              1.000000   \n",
       "75%                0.000000              0.000000              1.000000   \n",
       "max                1.000000              1.000000              1.000000   \n",
       "\n",
       "       Transmission-6-Speed  Transmission-7-Speed  Transmission-CVT  \\\n",
       "count            976.000000            976.000000        976.000000   \n",
       "mean               0.173156              0.016393          0.003074   \n",
       "std                0.378576              0.127048          0.055385   \n",
       "min                0.000000              0.000000          0.000000   \n",
       "25%                0.000000              0.000000          0.000000   \n",
       "50%                0.000000              0.000000          0.000000   \n",
       "75%                0.000000              0.000000          0.000000   \n",
       "max                1.000000              1.000000          1.000000   \n",
       "\n",
       "       is_Transmission_Type-Automatic  \n",
       "count                      976.000000  \n",
       "mean                         0.729508  \n",
       "std                          0.444442  \n",
       "min                          0.000000  \n",
       "25%                          0.000000  \n",
       "50%                          1.000000  \n",
       "75%                          1.000000  \n",
       "max                          1.000000  \n",
       "\n",
       "[8 rows x 53 columns]"
      ]
     },
     "execution_count": 70,
     "metadata": {},
     "output_type": "execute_result"
    }
   ],
   "source": [
    "df_cleaned.describe()"
   ]
  },
  {
   "cell_type": "markdown",
   "id": "2bd490d3",
   "metadata": {},
   "source": [
    "2. Summarize the Price variable and create a kernel density plot. Use .groupby() and .describe() to summarize prices by brand (Make). Make a grouped kernel density plot by Make. Which car brands are the most expensive? What do prices look like in general?"
   ]
  },
  {
   "cell_type": "code",
   "execution_count": 76,
   "id": "6f1ee796",
   "metadata": {},
   "outputs": [
    {
     "data": {
      "text/html": [
       "<div>\n",
       "<style scoped>\n",
       "    .dataframe tbody tr th:only-of-type {\n",
       "        vertical-align: middle;\n",
       "    }\n",
       "\n",
       "    .dataframe tbody tr th {\n",
       "        vertical-align: top;\n",
       "    }\n",
       "\n",
       "    .dataframe thead th {\n",
       "        text-align: right;\n",
       "    }\n",
       "</style>\n",
       "<table border=\"1\" class=\"dataframe\">\n",
       "  <thead>\n",
       "    <tr style=\"text-align: right;\">\n",
       "      <th></th>\n",
       "      <th>Price</th>\n",
       "    </tr>\n",
       "  </thead>\n",
       "  <tbody>\n",
       "    <tr>\n",
       "      <th>count</th>\n",
       "      <td>9.760000e+02</td>\n",
       "    </tr>\n",
       "    <tr>\n",
       "      <th>mean</th>\n",
       "      <td>7.410195e+05</td>\n",
       "    </tr>\n",
       "    <tr>\n",
       "      <th>std</th>\n",
       "      <td>3.673234e+05</td>\n",
       "    </tr>\n",
       "    <tr>\n",
       "      <th>min</th>\n",
       "      <td>1.880000e+05</td>\n",
       "    </tr>\n",
       "    <tr>\n",
       "      <th>25%</th>\n",
       "      <td>4.757500e+05</td>\n",
       "    </tr>\n",
       "    <tr>\n",
       "      <th>50%</th>\n",
       "      <td>6.665000e+05</td>\n",
       "    </tr>\n",
       "    <tr>\n",
       "      <th>75%</th>\n",
       "      <td>8.830000e+05</td>\n",
       "    </tr>\n",
       "    <tr>\n",
       "      <th>max</th>\n",
       "      <td>2.941000e+06</td>\n",
       "    </tr>\n",
       "  </tbody>\n",
       "</table>\n",
       "</div>"
      ],
      "text/plain": [
       "              Price\n",
       "count  9.760000e+02\n",
       "mean   7.410195e+05\n",
       "std    3.673234e+05\n",
       "min    1.880000e+05\n",
       "25%    4.757500e+05\n",
       "50%    6.665000e+05\n",
       "75%    8.830000e+05\n",
       "max    2.941000e+06"
      ]
     },
     "execution_count": 76,
     "metadata": {},
     "output_type": "execute_result"
    }
   ],
   "source": [
    "df[['Price']].describe()"
   ]
  },
  {
   "cell_type": "code",
   "execution_count": 79,
   "id": "6280e1df",
   "metadata": {},
   "outputs": [
    {
     "data": {
      "text/plain": [
       "<AxesSubplot:xlabel='Price', ylabel='Density'>"
      ]
     },
     "execution_count": 79,
     "metadata": {},
     "output_type": "execute_result"
    },
    {
     "data": {
      "image/png": "[encoded data removed]",
      "text/plain": [
       "<Figure size 640x480 with 1 Axes>"
      ]
     },
     "metadata": {},
     "output_type": "display_data"
    }
   ],
   "source": [
    "sns.kdeplot(data=df, x='Price')"
   ]
  },
  {
   "cell_type": "code",
   "execution_count": 78,
   "id": "d9a2547d",
   "metadata": {},
   "outputs": [
    {
     "data": {
      "text/html": [
       "<div>\n",
       "<style scoped>\n",
       "    .dataframe tbody tr th:only-of-type {\n",
       "        vertical-align: middle;\n",
       "    }\n",
       "\n",
       "    .dataframe tbody tr th {\n",
       "        vertical-align: top;\n",
       "    }\n",
       "\n",
       "    .dataframe thead th {\n",
       "        text-align: right;\n",
       "    }\n",
       "</style>\n",
       "<table border=\"1\" class=\"dataframe\">\n",
       "  <thead>\n",
       "    <tr style=\"text-align: right;\">\n",
       "      <th></th>\n",
       "      <th>count</th>\n",
       "      <th>mean</th>\n",
       "      <th>std</th>\n",
       "      <th>min</th>\n",
       "      <th>25%</th>\n",
       "      <th>50%</th>\n",
       "      <th>75%</th>\n",
       "      <th>max</th>\n",
       "    </tr>\n",
       "    <tr>\n",
       "      <th>Make</th>\n",
       "      <th></th>\n",
       "      <th></th>\n",
       "      <th></th>\n",
       "      <th></th>\n",
       "      <th></th>\n",
       "      <th></th>\n",
       "      <th></th>\n",
       "      <th></th>\n",
       "    </tr>\n",
       "  </thead>\n",
       "  <tbody>\n",
       "    <tr>\n",
       "      <th>Chevrolet</th>\n",
       "      <td>6.0</td>\n",
       "      <td>4.535000e+05</td>\n",
       "      <td>2.466064e+05</td>\n",
       "      <td>267000.0</td>\n",
       "      <td>288500.0</td>\n",
       "      <td>345500.0</td>\n",
       "      <td>537500.0</td>\n",
       "      <td>892000.0</td>\n",
       "    </tr>\n",
       "    <tr>\n",
       "      <th>Datsun</th>\n",
       "      <td>3.0</td>\n",
       "      <td>2.896667e+05</td>\n",
       "      <td>1.050397e+04</td>\n",
       "      <td>279000.0</td>\n",
       "      <td>284500.0</td>\n",
       "      <td>290000.0</td>\n",
       "      <td>295000.0</td>\n",
       "      <td>300000.0</td>\n",
       "    </tr>\n",
       "    <tr>\n",
       "      <th>Ford</th>\n",
       "      <td>52.0</td>\n",
       "      <td>7.211731e+05</td>\n",
       "      <td>1.409277e+05</td>\n",
       "      <td>290000.0</td>\n",
       "      <td>635000.0</td>\n",
       "      <td>707500.0</td>\n",
       "      <td>787000.0</td>\n",
       "      <td>1066000.0</td>\n",
       "    </tr>\n",
       "    <tr>\n",
       "      <th>Honda</th>\n",
       "      <td>73.0</td>\n",
       "      <td>7.989726e+05</td>\n",
       "      <td>2.665091e+05</td>\n",
       "      <td>316000.0</td>\n",
       "      <td>581000.0</td>\n",
       "      <td>785000.0</td>\n",
       "      <td>915000.0</td>\n",
       "      <td>1537000.0</td>\n",
       "    </tr>\n",
       "    <tr>\n",
       "      <th>Hyundai</th>\n",
       "      <td>305.0</td>\n",
       "      <td>6.918918e+05</td>\n",
       "      <td>2.791597e+05</td>\n",
       "      <td>248000.0</td>\n",
       "      <td>485000.0</td>\n",
       "      <td>638000.0</td>\n",
       "      <td>837000.0</td>\n",
       "      <td>1742000.0</td>\n",
       "    </tr>\n",
       "    <tr>\n",
       "      <th>Jeep</th>\n",
       "      <td>4.0</td>\n",
       "      <td>1.499500e+06</td>\n",
       "      <td>1.525134e+05</td>\n",
       "      <td>1290000.0</td>\n",
       "      <td>1447500.0</td>\n",
       "      <td>1529500.0</td>\n",
       "      <td>1581500.0</td>\n",
       "      <td>1649000.0</td>\n",
       "    </tr>\n",
       "    <tr>\n",
       "      <th>Kia</th>\n",
       "      <td>8.0</td>\n",
       "      <td>1.614750e+06</td>\n",
       "      <td>1.190567e+05</td>\n",
       "      <td>1369000.0</td>\n",
       "      <td>1579000.0</td>\n",
       "      <td>1628500.0</td>\n",
       "      <td>1705750.0</td>\n",
       "      <td>1741000.0</td>\n",
       "    </tr>\n",
       "    <tr>\n",
       "      <th>MG Motors</th>\n",
       "      <td>35.0</td>\n",
       "      <td>1.869457e+06</td>\n",
       "      <td>1.216611e+05</td>\n",
       "      <td>1589000.0</td>\n",
       "      <td>1786500.0</td>\n",
       "      <td>1848000.0</td>\n",
       "      <td>1978000.0</td>\n",
       "      <td>2019000.0</td>\n",
       "    </tr>\n",
       "    <tr>\n",
       "      <th>Mahindra</th>\n",
       "      <td>18.0</td>\n",
       "      <td>1.100167e+06</td>\n",
       "      <td>1.755493e+05</td>\n",
       "      <td>796000.0</td>\n",
       "      <td>1037000.0</td>\n",
       "      <td>1094500.0</td>\n",
       "      <td>1157000.0</td>\n",
       "      <td>1465000.0</td>\n",
       "    </tr>\n",
       "    <tr>\n",
       "      <th>Maruti Suzuki</th>\n",
       "      <td>293.0</td>\n",
       "      <td>5.887850e+05</td>\n",
       "      <td>2.160199e+05</td>\n",
       "      <td>237000.0</td>\n",
       "      <td>411000.0</td>\n",
       "      <td>527000.0</td>\n",
       "      <td>764000.0</td>\n",
       "      <td>1163000.0</td>\n",
       "    </tr>\n",
       "    <tr>\n",
       "      <th>Nissan</th>\n",
       "      <td>4.0</td>\n",
       "      <td>8.842500e+05</td>\n",
       "      <td>2.895599e+05</td>\n",
       "      <td>475000.0</td>\n",
       "      <td>782500.0</td>\n",
       "      <td>978000.0</td>\n",
       "      <td>1079750.0</td>\n",
       "      <td>1106000.0</td>\n",
       "    </tr>\n",
       "    <tr>\n",
       "      <th>Renault</th>\n",
       "      <td>68.0</td>\n",
       "      <td>6.625735e+05</td>\n",
       "      <td>2.148273e+05</td>\n",
       "      <td>287000.0</td>\n",
       "      <td>475000.0</td>\n",
       "      <td>644000.0</td>\n",
       "      <td>801000.0</td>\n",
       "      <td>1164000.0</td>\n",
       "    </tr>\n",
       "    <tr>\n",
       "      <th>Skoda</th>\n",
       "      <td>5.0</td>\n",
       "      <td>1.136000e+06</td>\n",
       "      <td>1.070175e+06</td>\n",
       "      <td>436000.0</td>\n",
       "      <td>466000.0</td>\n",
       "      <td>538000.0</td>\n",
       "      <td>1299000.0</td>\n",
       "      <td>2941000.0</td>\n",
       "    </tr>\n",
       "    <tr>\n",
       "      <th>Tata</th>\n",
       "      <td>23.0</td>\n",
       "      <td>1.055217e+06</td>\n",
       "      <td>5.578305e+05</td>\n",
       "      <td>188000.0</td>\n",
       "      <td>779500.0</td>\n",
       "      <td>869000.0</td>\n",
       "      <td>1552000.0</td>\n",
       "      <td>2100000.0</td>\n",
       "    </tr>\n",
       "    <tr>\n",
       "      <th>Toyota</th>\n",
       "      <td>50.0</td>\n",
       "      <td>8.003400e+05</td>\n",
       "      <td>2.466900e+05</td>\n",
       "      <td>368000.0</td>\n",
       "      <td>526250.0</td>\n",
       "      <td>894000.0</td>\n",
       "      <td>1023000.0</td>\n",
       "      <td>1092000.0</td>\n",
       "    </tr>\n",
       "    <tr>\n",
       "      <th>Volkswagen</th>\n",
       "      <td>29.0</td>\n",
       "      <td>6.058276e+05</td>\n",
       "      <td>1.198312e+05</td>\n",
       "      <td>402000.0</td>\n",
       "      <td>542000.0</td>\n",
       "      <td>607000.0</td>\n",
       "      <td>699000.0</td>\n",
       "      <td>790000.0</td>\n",
       "    </tr>\n",
       "  </tbody>\n",
       "</table>\n",
       "</div>"
      ],
      "text/plain": [
       "               count          mean           std        min        25%  \\\n",
       "Make                                                                     \n",
       "Chevrolet        6.0  4.535000e+05  2.466064e+05   267000.0   288500.0   \n",
       "Datsun           3.0  2.896667e+05  1.050397e+04   279000.0   284500.0   \n",
       "Ford            52.0  7.211731e+05  1.409277e+05   290000.0   635000.0   \n",
       "Honda           73.0  7.989726e+05  2.665091e+05   316000.0   581000.0   \n",
       "Hyundai        305.0  6.918918e+05  2.791597e+05   248000.0   485000.0   \n",
       "Jeep             4.0  1.499500e+06  1.525134e+05  1290000.0  1447500.0   \n",
       "Kia              8.0  1.614750e+06  1.190567e+05  1369000.0  1579000.0   \n",
       "MG Motors       35.0  1.869457e+06  1.216611e+05  1589000.0  1786500.0   \n",
       "Mahindra        18.0  1.100167e+06  1.755493e+05   796000.0  1037000.0   \n",
       "Maruti Suzuki  293.0  5.887850e+05  2.160199e+05   237000.0   411000.0   \n",
       "Nissan           4.0  8.842500e+05  2.895599e+05   475000.0   782500.0   \n",
       "Renault         68.0  6.625735e+05  2.148273e+05   287000.0   475000.0   \n",
       "Skoda            5.0  1.136000e+06  1.070175e+06   436000.0   466000.0   \n",
       "Tata            23.0  1.055217e+06  5.578305e+05   188000.0   779500.0   \n",
       "Toyota          50.0  8.003400e+05  2.466900e+05   368000.0   526250.0   \n",
       "Volkswagen      29.0  6.058276e+05  1.198312e+05   402000.0   542000.0   \n",
       "\n",
       "                     50%        75%        max  \n",
       "Make                                            \n",
       "Chevrolet       345500.0   537500.0   892000.0  \n",
       "Datsun          290000.0   295000.0   300000.0  \n",
       "Ford            707500.0   787000.0  1066000.0  \n",
       "Honda           785000.0   915000.0  1537000.0  \n",
       "Hyundai         638000.0   837000.0  1742000.0  \n",
       "Jeep           1529500.0  1581500.0  1649000.0  \n",
       "Kia            1628500.0  1705750.0  1741000.0  \n",
       "MG Motors      1848000.0  1978000.0  2019000.0  \n",
       "Mahindra       1094500.0  1157000.0  1465000.0  \n",
       "Maruti Suzuki   527000.0   764000.0  1163000.0  \n",
       "Nissan          978000.0  1079750.0  1106000.0  \n",
       "Renault         644000.0   801000.0  1164000.0  \n",
       "Skoda           538000.0  1299000.0  2941000.0  \n",
       "Tata            869000.0  1552000.0  2100000.0  \n",
       "Toyota          894000.0  1023000.0  1092000.0  \n",
       "Volkswagen      607000.0   699000.0   790000.0  "
      ]
     },
     "execution_count": 78,
     "metadata": {},
     "output_type": "execute_result"
    }
   ],
   "source": [
    "df.groupby('Make')['Price'].describe()"
   ]
  },
  {
   "cell_type": "code",
   "execution_count": 73,
   "id": "1e880b80",
   "metadata": {},
   "outputs": [
    {
     "data": {
      "image/png": "[encoded data removed]",
      "text/plain": [
       "<Figure size 640x480 with 1 Axes>"
      ]
     },
     "metadata": {},
     "output_type": "display_data"
    }
   ],
   "source": [
    "plot = sns.kdeplot(data=df, x='Price', hue=\"Make\")"
   ]
  },
  {
   "cell_type": "markdown",
   "id": "4ded3dce",
   "metadata": {},
   "source": [
    "3. Split the data into an 80% training set and a 20% testing set."
   ]
  },
  {
   "cell_type": "code",
   "execution_count": 80,
   "id": "c71fc2da",
   "metadata": {},
   "outputs": [],
   "source": [
    "from sklearn.model_selection import train_test_split\n",
    "X = df_cleaned[[c for c in df_cleaned.columns if c!=\"Price\"]]\n",
    "y = df_cleaned[[\"Price\"]]\n",
    "X_train, X_test, y_train, y_test = train_test_split(X, y, test_size=0.2, random_state=50)"
   ]
  },
  {
   "cell_type": "code",
   "execution_count": 82,
   "id": "588e7f5a",
   "metadata": {},
   "outputs": [],
   "source": [
    "TSS = np.sum( (y_test - y_train.mean())**2 )\n",
    "N_test = len(y_test)"
   ]
  },
  {
   "cell_type": "markdown",
   "id": "13c3ed47",
   "metadata": {},
   "source": [
    "4. Let's focus on linear models. Make a model where you regress price on the numeric variables alone; what is the $R^2$ and `RMSE` on the test set? Make a second model where, for the categorical variables, make a model comprised of one-hot encoded regressors/features alone, and regress price on those variables; what is the $R^2$ and `RMSE` on the test set? Which model performs better on the test set? Make a third model that combines all the regressors from the previous two; what is the $R^2$ and `RMSE` on the test set? Does the joint model perform better or worse, and by home much?"
   ]
  },
  {
   "cell_type": "code",
   "execution_count": 88,
   "id": "3a16aa8a",
   "metadata": {},
   "outputs": [
    {
     "name": "stdout",
     "output_type": "stream",
     "text": [
      "SSE: Price    2.018910e+13\n",
      "dtype: float64\n",
      "MSE: Price    1.030056e+11\n",
      "dtype: float64\n",
      "RMSE: Price    320944.882388\n",
      "dtype: float64\n",
      "R2: Price    0.259461\n",
      "dtype: float64\n"
     ]
    }
   ],
   "source": [
    "# Linear Model (Numeric Only)\n",
    "from sklearn.linear_model import LinearRegression\n",
    "\n",
    "numeric_columns = [c for c in df.columns if c not in set(df.select_dtypes(['object']).columns) and c!=\"Price\"]\n",
    "X_lin_train = X_train[numeric_columns]\n",
    "X_lin_test = X_test[numeric_columns]\n",
    "\n",
    "reg = LinearRegression().fit(X_lin_train, y_train)\n",
    "y_hat = reg.predict(X_lin_test)\n",
    "calculate_metrics(y_test, y_hat, TSS, N_test)"
   ]
  },
  {
   "cell_type": "code",
   "execution_count": 89,
   "id": "a84dcc8e",
   "metadata": {},
   "outputs": [
    {
     "name": "stdout",
     "output_type": "stream",
     "text": [
      "SSE: Price    1.075088e+13\n",
      "dtype: float64\n",
      "MSE: Price    5.485141e+10\n",
      "dtype: float64\n",
      "RMSE: Price    234203.784105\n",
      "dtype: float64\n",
      "R2: Price    0.605656\n",
      "dtype: float64\n"
     ]
    }
   ],
   "source": [
    "# One-Hot Encoding Model\n",
    "\n",
    "nonnumeric_columns = [c for c in X_train.columns if c not in numeric_columns and c!=\"Price\"]\n",
    "X_cat_train = X_train[nonnumeric_columns]\n",
    "X_cat_test = X_test[nonnumeric_columns]\n",
    "\n",
    "reg = LinearRegression().fit(X_cat_train, y_train)\n",
    "y_hat = reg.predict(X_cat_test)\n",
    "calculate_metrics(y_test, y_hat, TSS, N_test)"
   ]
  },
  {
   "cell_type": "code",
   "execution_count": 123,
   "id": "d08fcb08",
   "metadata": {},
   "outputs": [
    {
     "name": "stdout",
     "output_type": "stream",
     "text": [
      "SSE: Price    7.114465e+12\n",
      "dtype: float64\n",
      "MSE: Price    3.629829e+10\n",
      "dtype: float64\n",
      "RMSE: Price    190521.107298\n",
      "dtype: float64\n",
      "R2: Price    0.739041\n",
      "dtype: float64\n"
     ]
    },
    {
     "data": {
      "text/plain": [
       "(Price    190521.107298\n",
       " dtype: float64,\n",
       " Price    0.739041\n",
       " dtype: float64)"
      ]
     },
     "execution_count": 123,
     "metadata": {},
     "output_type": "execute_result"
    }
   ],
   "source": [
    "# Combined Encoding Model\n",
    "\n",
    "reg = LinearRegression().fit(X_train, y_train)\n",
    "y_hat = reg.predict(X_test)\n",
    "calculate_metrics(y_test, y_hat, TSS, N_test)"
   ]
  },
  {
   "cell_type": "markdown",
   "id": "30d94310",
   "metadata": {},
   "source": [
    "The one-hot encoding linear regression model gives a higher R2 score (showing stronger linear correlation) and a lower RMSE score than the numeric linear regression model. The combined model out-performs both by significant margins, increasing the R2 value to 0.74 and reducing the RMSE by over 40,000."
   ]
  },
  {
   "cell_type": "markdown",
   "id": "b2272381",
   "metadata": {},
   "source": [
    "5. Use the `PolynomialFeatures` function from `sklearn` to expand the set of numerical variables you're using, along with the categorical variables. As you increase the degree of the expansion, how do the $R^2$ and `RMSE` change? At what point does $R^2$ go negative on the test set? For your best model with expanded features, what is the $R^2$ and `RMSE`? How does it compare to your best model from part 3?"
   ]
  },
  {
   "cell_type": "code",
   "execution_count": 97,
   "id": "bcd2ca24",
   "metadata": {},
   "outputs": [
    {
     "name": "stdout",
     "output_type": "stream",
     "text": [
      "-----Degree: 1-----\n",
      "SSE: Price    7.114465e+12\n",
      "dtype: float64\n",
      "MSE: Price    3.629829e+10\n",
      "dtype: float64\n",
      "RMSE: Price    190521.107298\n",
      "dtype: float64\n",
      "R2: Price    0.739041\n",
      "dtype: float64\n",
      "-----Degree: 2-----\n",
      "SSE: Price    1.229262e+17\n",
      "dtype: float64\n",
      "MSE: Price    6.271746e+14\n",
      "dtype: float64\n",
      "RMSE: Price    2.504345e+07\n",
      "dtype: float64\n",
      "R2: Price   -4507.949656\n",
      "dtype: float64\n",
      "-----Degree: 3-----\n",
      "SSE: Price    2.393708e+19\n",
      "dtype: float64\n",
      "MSE: Price    1.221280e+17\n",
      "dtype: float64\n",
      "RMSE: Price    3.494681e+08\n",
      "dtype: float64\n",
      "R2: Price   -878014.229854\n",
      "dtype: float64\n",
      "[(Price    190521.107298\n",
      "dtype: float64, Price    0.739041\n",
      "dtype: float64), (Price    2.504345e+07\n",
      "dtype: float64, Price   -4507.949656\n",
      "dtype: float64), (Price    3.494681e+08\n",
      "dtype: float64, Price   -878014.229854\n",
      "dtype: float64)]\n"
     ]
    },
    {
     "data": {
      "text/plain": [
       "[<matplotlib.lines.Line2D at 0x1f60cb24e20>]"
      ]
     },
     "execution_count": 97,
     "metadata": {},
     "output_type": "execute_result"
    },
    {
     "data": {
      "image/png": "[encoded data removed]",
      "text/plain": [
       "<Figure size 640x480 with 1 Axes>"
      ]
     },
     "metadata": {},
     "output_type": "display_data"
    }
   ],
   "source": [
    "from sklearn.preprocessing import PolynomialFeatures\n",
    "\n",
    "results = []\n",
    "for deg in range(3):\n",
    "    print(f\"-----Degree: {deg+1}-----\")\n",
    "    expander = PolynomialFeatures(degree=deg+1,include_bias=False) # Create the expander\n",
    "\n",
    "    Z_train = expander.fit_transform(X_train) # Pass the df into the expander to get powers/interactions of x and y\n",
    "    names = expander.get_feature_names_out() # Get the names of these variables\n",
    "    X_train_lm = pd.DataFrame(data=Z_train, columns = names) # Create a new, expanded dataframe\n",
    "\n",
    "    Z_test = expander.fit_transform(X_test) # Pass the df into the expander to get powers/interactions of x and y\n",
    "    names = expander.get_feature_names_out() # Get the names of these variables\n",
    "    X_test_lm = pd.DataFrame(data=Z_test, columns = names) # Create a new, expanded dataframe\n",
    "\n",
    "    reg = LinearRegression().fit(X_train_lm, y_train)\n",
    "    y_hat = reg.predict(X_test_lm)\n",
    "    RMSE, R2 = calculate_metrics(y_test, y_hat, TSS, N_test)\n",
    "    results.append((RMSE, R2))\n",
    "print(results)\n",
    "plt.plot(range(1, 4), [r[1] for r in results], label=\"R2\")"
   ]
  },
  {
   "cell_type": "markdown",
   "id": "03a75c44",
   "metadata": {},
   "source": [
    "The R2 value goes negative at degree = 2. This means our best-performing model is actually the original model from before which had degree = 1."
   ]
  },
  {
   "cell_type": "markdown",
   "id": "db9117f9",
   "metadata": {},
   "source": [
    " 6. For your best model so far, determine the predicted values for the test data and plot them against the true values. Do the predicted values and true values roughly line up along the diagonal, or not? Compute the residuals/errors for the test data and create a kernel density plot. Do the residuals look roughly bell-shaped around zero? Evaluate the strengths and weaknesses of your model."
   ]
  },
  {
   "cell_type": "code",
   "execution_count": 98,
   "id": "cae131a9",
   "metadata": {},
   "outputs": [
    {
     "name": "stdout",
     "output_type": "stream",
     "text": [
      "SSE: Price    7.114465e+12\n",
      "dtype: float64\n",
      "MSE: Price    3.629829e+10\n",
      "dtype: float64\n",
      "RMSE: Price    190521.107298\n",
      "dtype: float64\n",
      "R2: Price    0.739041\n",
      "dtype: float64\n"
     ]
    },
    {
     "data": {
      "text/plain": [
       "(Price    190521.107298\n",
       " dtype: float64,\n",
       " Price    0.739041\n",
       " dtype: float64)"
      ]
     },
     "execution_count": 98,
     "metadata": {},
     "output_type": "execute_result"
    }
   ],
   "source": [
    "reg = LinearRegression().fit(X_train, y_train)\n",
    "y_hat = reg.predict(X_test)\n",
    "calculate_metrics(y_test, y_hat, TSS, N_test)"
   ]
  },
  {
   "cell_type": "code",
   "execution_count": 108,
   "id": "6e188f5e",
   "metadata": {},
   "outputs": [
    {
     "data": {
      "text/plain": [
       "Text(0.5, 0, 'True Values')"
      ]
     },
     "execution_count": 108,
     "metadata": {},
     "output_type": "execute_result"
    },
    {
     "data": {
      "image/png": "[encoded data removed]",
      "text/plain": [
       "<Figure size 640x480 with 1 Axes>"
      ]
     },
     "metadata": {},
     "output_type": "display_data"
    }
   ],
   "source": [
    "plt.scatter(y_test['Price'].tolist(), y_hat.tolist())\n",
    "plt.ylabel(\"Predicted Values\")\n",
    "plt.xlabel(\"True Values\")"
   ]
  },
  {
   "cell_type": "markdown",
   "id": "bf35f6fe",
   "metadata": {},
   "source": [
    "For the most part, the values line up diagonally across the plot. However, there is a significant outlier to the right edge of the plot where a large true value is greatly underpredicted."
   ]
  },
  {
   "cell_type": "code",
   "execution_count": 109,
   "id": "24ac6704",
   "metadata": {},
   "outputs": [
    {
     "data": {
      "image/png": "[encoded data removed]",
      "text/plain": [
       "<Figure size 640x480 with 1 Axes>"
      ]
     },
     "metadata": {},
     "output_type": "display_data"
    }
   ],
   "source": [
    "residuals = y_test - y_hat\n",
    "sns.kdeplot(residuals)\n",
    "plt.show()"
   ]
  },
  {
   "cell_type": "markdown",
   "id": "a2989f56",
   "metadata": {},
   "source": [
    "Once again, excluding the outlier, the residuals look roughly bell-shaped around zero. A strength of the model is that it can adequately capture the linear relationships of the majority of the data points. A major weakness however is that it fails to extrapolate beyodn the bulk of the data it sees and thus cannot apply for more extreme values, resulting in the large residual for the large outlier price value."
   ]
  },
  {
   "cell_type": "markdown",
   "id": "fc812895",
   "metadata": {},
   "source": [
    "  7. Now, let's use a regression tree. Construct an appropriate matrix of regressors/features, and fit a tree to the data. Vary the maximum depth of the decision tree using the `max_depth` option (i.e. `tree.DecisionTreeRegressor(max_depth=D)`), and compute the $R^2$ and `RMSE` on the test set of a variety of depths. What depth tree gives the best results?"
   ]
  },
  {
   "cell_type": "code",
   "execution_count": 148,
   "id": "20ef2ab6",
   "metadata": {},
   "outputs": [
    {
     "name": "stdout",
     "output_type": "stream",
     "text": [
      "------Depth: 1------\n",
      "SSE: 20792071548850.156\n",
      "MSE: 106081997698.21507\n",
      "RMSE: 325702.3145423058\n",
      "R2: Price    0.237344\n",
      "dtype: float64\n",
      "------Depth: 3------\n",
      "SSE: 9856392776434.508\n",
      "MSE: 50287718247.11483\n",
      "RMSE: 224249.23243372503\n",
      "R2: Price    0.638466\n",
      "dtype: float64\n",
      "------Depth: 5------\n",
      "SSE: 8935362694701.51\n",
      "MSE: 45588585177.048515\n",
      "RMSE: 213514.83596473694\n",
      "R2: Price    0.67225\n",
      "dtype: float64\n",
      "------Depth: 7------\n",
      "SSE: 8789036036472.104\n",
      "MSE: 44842020594.24542\n",
      "RMSE: 211759.34594309036\n",
      "R2: Price    0.677617\n",
      "dtype: float64\n",
      "------Depth: 9------\n",
      "SSE: 8714384860934.493\n",
      "MSE: 44461147249.66578\n",
      "RMSE: 210858.12113756913\n",
      "R2: Price    0.680355\n",
      "dtype: float64\n",
      "------Depth: 11------\n",
      "SSE: 9010093755953.914\n",
      "MSE: 45969866101.80568\n",
      "RMSE: 214405.84437418138\n",
      "R2: Price    0.669509\n",
      "dtype: float64\n",
      "------Depth: 13------\n",
      "SSE: 8773081798390.69\n",
      "MSE: 44760621420.360664\n",
      "RMSE: 211567.06128403038\n",
      "R2: Price    0.678202\n",
      "dtype: float64\n",
      "------Depth: 15------\n",
      "SSE: 9337784657767.482\n",
      "MSE: 47641758457.99735\n",
      "RMSE: 218269.9211022842\n",
      "R2: Price    0.657489\n",
      "dtype: float64\n",
      "------Depth: 17------\n",
      "SSE: 9343026409943.434\n",
      "MSE: 47668502091.54813\n",
      "RMSE: 218331.17526259995\n",
      "R2: Price    0.657297\n",
      "dtype: float64\n",
      "------Depth: 19------\n",
      "SSE: 9362907780816.957\n",
      "MSE: 47769937657.22937\n",
      "RMSE: 218563.34929998984\n",
      "R2: Price    0.656567\n",
      "dtype: float64\n",
      "[(1, 325702.3145423058, Price    0.237344\n",
      "dtype: float64), (3, 224249.23243372503, Price    0.638466\n",
      "dtype: float64), (5, 213514.83596473694, Price    0.67225\n",
      "dtype: float64), (7, 211759.34594309036, Price    0.677617\n",
      "dtype: float64), (9, 210858.12113756913, Price    0.680355\n",
      "dtype: float64), (11, 214405.84437418138, Price    0.669509\n",
      "dtype: float64), (13, 211567.06128403038, Price    0.678202\n",
      "dtype: float64), (15, 218269.9211022842, Price    0.657489\n",
      "dtype: float64), (17, 218331.17526259995, Price    0.657297\n",
      "dtype: float64), (19, 218563.34929998984, Price    0.656567\n",
      "dtype: float64)]\n"
     ]
    }
   ],
   "source": [
    "results = []\n",
    "\n",
    "for depth in range(1, 20, 2):\n",
    "    print(f\"------Depth: {depth}------\")\n",
    "    tree_model = fit_model(X_train, y_train, max_depth=depth)\n",
    "    y_hat = tree_model.predict(X_test)\n",
    "    RMSE, R2 = calculate_metrics(y_test[\"Price\"], y_hat, TSS, N_test)\n",
    "    \n",
    "    results.append((depth, RMSE, R2))\n",
    "\n",
    "print(results)"
   ]
  },
  {
   "cell_type": "markdown",
   "id": "0d20295b",
   "metadata": {},
   "source": [
    "The depth of 9 gives the best R2 score of 0.68 and the smallest RMSE of 210858."
   ]
  },
  {
   "cell_type": "markdown",
   "id": "8f0e4c7c",
   "metadata": {},
   "source": [
    "  8. For your best tree, determine the predicted values for the test data, and plot them against the true values. Do the predicted values and true values line up along the diagonal, or not? Compute the residuals/errors for the test data and create a kernel density plot. Do the residuals look roughly bell-shaped around zero?"
   ]
  },
  {
   "cell_type": "code",
   "execution_count": 149,
   "id": "ec7ac9ec",
   "metadata": {},
   "outputs": [
    {
     "data": {
      "text/plain": [
       "Text(0.5, 0, 'True Values')"
      ]
     },
     "execution_count": 149,
     "metadata": {},
     "output_type": "execute_result"
    },
    {
     "data": {
      "image/png": "[encoded data removed]",
      "text/plain": [
       "<Figure size 640x480 with 1 Axes>"
      ]
     },
     "metadata": {},
     "output_type": "display_data"
    }
   ],
   "source": [
    "tree_model = fit_model(X_train, y_train, max_depth=9)\n",
    "y_hat = tree_model.predict(X_test)\n",
    "plt.scatter(y_test[\"Price\"], y_hat)\n",
    "plt.ylabel(\"Predicted Values\")\n",
    "plt.xlabel(\"True Values\")"
   ]
  },
  {
   "cell_type": "markdown",
   "id": "b9c2d44d",
   "metadata": {},
   "source": [
    "Excluding the same outlier we identified before, the values mostly line up along the diagonal, showing decent accuracy in the model's performance."
   ]
  },
  {
   "cell_type": "code",
   "execution_count": 152,
   "id": "0244de98",
   "metadata": {},
   "outputs": [
    {
     "data": {
      "image/png": "[encoded data removed]",
      "text/plain": [
       "<Figure size 640x480 with 1 Axes>"
      ]
     },
     "metadata": {},
     "output_type": "display_data"
    }
   ],
   "source": [
    "residuals = y_test[\"Price\"].tolist() - y_hat\n",
    "sns.kdeplot(residuals)\n",
    "plt.show()"
   ]
  },
  {
   "cell_type": "markdown",
   "id": "e0a5f95e",
   "metadata": {},
   "source": [
    "Like before, the values appear relatively bell-shaped excluding the large residual outlier to the right."
   ]
  },
  {
   "cell_type": "markdown",
   "id": "346b0567",
   "metadata": {},
   "source": [
    "9. Which model --- linear model or classification and regression tree --- has better performance on the test set?"
   ]
  },
  {
   "cell_type": "markdown",
   "id": "901011bc",
   "metadata": {},
   "source": [
    "Overall, the linear model actually exhibits better performance on the test set with a lower RMSE and a higher R2 value."
   ]
  },
  {
   "cell_type": "markdown",
   "id": "25bf83c6-ff44-42d6-9b33-8be1b945860d",
   "metadata": {},
   "source": [
    "**Q2.** The is a question about regression using decision trees and linear models. The data include wages at data science-y jobs, including\n",
    "\n",
    "  - `Rating`: Company worker happiness score\n",
    "  - `Size`: Number of employees\n",
    "  - `Sector`: Part of the economy\n",
    "  - `avg_salary`: Average wage\n",
    "  - `job_state`: Location of work\n",
    "\n",
    "  1. Load the `wages_hw.csv` file. Split the sample into an ~80% training set and a ~20% test set. Do any necessary cleaning, including outliers and missings.\n",
    "  2. Use a linear model to regress `avg_salary` on `Sector`. Which sectors have the highest predicted wages? What is the $R^2$ and `RMSE` on the test set? \n",
    "  3. Make a scatterplot of `avg_salary` and `Rating`. Is there an obvious visual relationship between the two variables? Regress `avg_salary` on `Rating` as a numeric variable: Do higher ratings predict higher or lower wages? Convert `Rating` to a one-hot encoded variable, with a category for each rating. Run a regression of `avg_salary` on the categorical version. How do your results change? Explain. Which version has a higher $R^2$ and lower `RMSE`?\n",
    "  4. Now interact `Sector` with the categorical version of `Rating`, so your regressors are a (Sector, Rating) pair; this is a programming puzzle you'll have to think about, but using the `.PolynomialFeatures()` function on the one-hot encoded categorical variables is one option, and another is pre-processing a new variable that interacts `Sector` and `Rating` and then one-hot encoding the result. Regress `avg_salary` on the (Sector, Rating) pairs. How does the $R^2$ and `RMSE` on the test set compare to part 2? Interpret the coefficients; which sector-rating pairs have the highest wages?\n",
    "  5. Run a linear regression of `avg_salary` on all the variables. What is the $R^2$ on the test set? How does it compare to your simpler models in 2--4? \n",
    "  6. Build a decision tree by regressing `avg_salary` on `Sector`, `Rating`, and the (Sector, Rating) pairs. What are the $R^2$ and `RMSE` of your models on the test set? How do your answers compare to parts 2, 3, and 4?\n",
    "  7. Build a decision tree by regressing `avg_salary` on all the other variables. What is the $R^2$ and `RMSE` on the test set?\n",
    "  8. Build a linear regression or decision tree using the available variables based on your own judgment. What degrees of freedom are you giving the model to predict variation in wages across company and location attributes? What is the $R^2$ and `RMSE` of your model? How does it compare to the previous ones in the question? Why does yours perform better or worse on the test set?"
   ]
  },
  {
   "cell_type": "markdown",
   "id": "409519b9-e803-4a95-aded-d6eabf6bc526",
   "metadata": {},
   "source": [
    "**Q3.** This a question purely on categorical prediction. The data for this happen to be gathered in 1987 in Indonesia, and concern contraceptive method choice. The questions and data-gathering assumptions reflect the culture and attitudes of that time and place, but provide a good example of a categorical prediction problem on an important topic (family planning and maternal health The variables in the data are:\n",
    "\n",
    "    - Wife's age (numerical)\n",
    "    - Wife's education (categorical) 1=low, 2, 3, 4=high \n",
    "    - Husband's education (categorical) 1=low, 2, 3, 4=high \n",
    "    - Number of children ever born (numerical) \n",
    "    - Wife's religion (binary) 0=Non-Islam, 1=Islam\n",
    "    - Wife's now working? (binary) 0=Yes, 1=No\n",
    "    - Husband's occupation (categorical) 1, 2, 3, 4\n",
    "    - Standard-of-living index (categorical) 1=low, 2, 3, 4=high\n",
    "    - Media exposure (binary) 0=Good, 1=Not good\n",
    "    - Contraceptive method used (class attribute) 1=No-use, 2=Long-term, 3=Short-termhort-term\n",
    "\n",
    "  1. Load the `contraceptiveMethodChoice.csv` data. Tabulate the `method` variable (i.e. `.value_counts()`). 1 corresponds to `No Contraception`, 3 corresponds to `Short Term` (e.g. condoms, birth control pills), and 2 corresponds to `Long Term` (e.g. IUD, sterilization). Cross tabulate `method` and `numberChildren`. Do couples that use birth control tend to have more children than those who don't?\n",
    "  2. Split the sample into ~80% training data and ~20% testing data.\n",
    "  3. We are now going to make a mistake. Train a regression tree to predict the contraceptive method using the other variables in the data, not a classification tree. Look at the terminal nodes in the tree: What values do they take? Does that make sense? Explain clearly what has gone wrong here.\n",
    "  4. Instead of regression, use a classification tree to predict contraceptive method using the other variables in the data. How does it look different from the previous tree? What variables does the algorithm use? In broad terms, which groups of people are most likely to use each method of contraception?\n",
    "  5. Compute a confusion matrix for your classification tree on the test set (Hint: There are now three categories instead of two, so the cross tabulation will be a $3 \\times 3$ matrix instead of $2 \\times 2$.). Compute the Accuracy of your model overall, and the Accuracy for predicting each contraceptive method.\n",
    "  7. Why can't you use a linear probability model to do this exercise? Explain clearly in words."
   ]
  },
  {
   "cell_type": "markdown",
   "id": "7bd15c6b-4c7c-4230-a199-e03e1054ec6a",
   "metadata": {},
   "source": [
    "**Q4.** This is a question where we use regression and regression trees. The outcome is whether a defendant is held pre-trial in the Virginia justice system. We would like to understand how that outcome is predicted by characteristics of the defendant, particularly race. Let's be very careful/clear: We aren't saying anyone *should* be held without bond or asserting that people with different demographic variables *should* be more likely to be held, but instead trying to predict whether people with different characteristics *are empirically more likely* to be held without bond, given the available information. This is the first step we would take in investigating whether a system is fair, or how large the disparities are: Does it treat people with similar observable characteristics similarly, or not? We are going to look at a common question: Are Black defendants treated differently from white or Asian ones? (There are Native American defendants, but there are 11 in total, which is such a small number of observations that is difficult to clearly say anything about how this group is treated relative to the others.)\n",
    "\n",
    "The variables in the data are:\n",
    "\n",
    "  - `held_wo_bail`: Whether a defendant is held without bail before trial (Boolean logical)\n",
    "  - `race`, `sex`: Categorical demographic variables\n",
    "  - `is_poor`: Whether the defendant is classified as indigent \n",
    "  - `prior_F`, `prior_M`: The number of prior felony and misdemeanor arrests\n",
    "  - `case_type`: A categorical variable indicating a misdemeanor `M` or felony `F` or infraction `I` or special case `S`\n",
    "  - `age`: Defendant's age\n",
    "  - `bond`, `bond_NA`, `bond_type`: The amount of any bond, whether it is missing, and the type\n",
    "  - `sentence`, `sentence_NA`, `sentence_type`: The length of any sentence, whether it is missing, and the type\n",
    "\n",
    "1. Load the `pretrial_data.csv` data. Notice that there are `nan`s, but the data are relatively clean. Because there are `.nan`s among variables you won't use, you'll want to narrow down your analysis to the relevant variables before dropping or imputing missing values.\n",
    "2. Create a dummy variable indicating that the defendant is Black.\n",
    "3. Regress `held` on `Black`. What is the slope coefficient Interpret the coefficient on the Black dummy variable: How much more likely is a black person to be held without bail? What is the $R^2$ of the model?\n",
    "4. Before doing this question, please think for a few minutes about how to make the process of running these regressions as efficient as possible, before jumping into writing code. Repeat part 2, for the following specifications, keeping track of the coefficient on the Black dummy variable each time:\n",
    "      - `held` on `Black` and `sex`\n",
    "      - `held` on `Black` and `sex` and `is_poor`\n",
    "      - `held` on `Black` and `sex` and `is_poor` and `prior_F`\n",
    "      - `held` on `Black` and `sex` and `is_poor` and `prior_F` and `case_type`\n",
    "What happens to the coefficient on the Black dummy variable as you include more regressors/features/controls in the regression? Explain your findings.\n",
    "5. Suppose we don't want to see just `Black` and `sex`, but `Black` interacted with `sex`: Are Black men and Black women treated systemically differently from the rest of the population? Implement this in a regression, and explain your findings.\n",
    "6. Imagine someone argued we should use these kinds of models to help a judge or magistrate make bail decisions (you could obviously go back and make this kind of model for the bond and sentence variables, then deploy it on new cases to predict what their bond and sentence values would be). What concerns would you have? Do you think society should be using data-driven and automated tools like that? Explain your concerns clearly."
   ]
  },
  {
   "cell_type": "markdown",
   "id": "d0bedb79-b3d9-4db3-9b30-b92c9b618cec",
   "metadata": {},
   "source": [
    "**Q5.** This is a math question to review the derivation of the OLS estimator (but only if you are into that kind of thing!). We are going to do it slightly differently from what we did in class, though. We will use a linear predictor and minimize the Sum of Squared Errors, just as in class. But, we are going to de-mean $X$ first, creating another variable $z_i = x_i - \\bar{x}$ where \n",
    "$$\n",
    "\\bar{x} = \\dfrac{1}{N} \\sum_{i=1}^N x_i,\n",
    "$$\n",
    "so the model is $\\hat{y}_i = a + b z_i$ and the `SSE` is\n",
    "$$\n",
    "\\text{SSE}(a,b) = \\sum_{i=1}^N (y_i - a - bz_i)^2.\n",
    "$$\n",
    "\n",
    "  1. Take partial derivatives of the `SSE` with respect to $a$ and $b$. You should get\n",
    "\n",
    "\\begin{eqnarray*}\n",
    "\\sum_{i=1}^N -2(y_i - a- bz_i) &=& 0 \\\\\n",
    "\\sum_{i=1}^N -2(y_i - a - bz_i)z_i &=& 0.\n",
    "\\end{eqnarray*}\n",
    "\n",
    "  2. Solve for the solutions to the above equations. Big hint: $\\bar{z} = 0$, since we subtracted the mean of $x$ from $x$ to get $z$. You should get\n",
    "\n",
    "\\begin{eqnarray*}\n",
    "a^* &=& \\bar{y} \\\\\n",
    "b^* &=& \\dfrac{\\sum_{i=1}^N(y_i - \\bar{y})z_i}{\\sum_{i=1}^N z_i^2}.\n",
    "\\end{eqnarray*}\n",
    "\n",
    "  3. Substitute $z_i = x_i - \\bar{x}$ back into the above equations. You should get\n",
    "  \n",
    "\\begin{eqnarray*}\n",
    "a^* &=& \\bar{y} \\\\\n",
    "b^* &=& \\dfrac{\\sum_{i=1}^N(y_i - \\bar{y})(x_i-\\bar{x})}{\\sum_{i=1}^N (x_i-\\bar{x})^2},\n",
    "\\end{eqnarray*}\n",
    "\n",
    "which can be written in terms of sample covariance and sample variance as:\n",
    "\n",
    "\\begin{eqnarray*}\n",
    "a^* &=& \\bar{y} \\\\\n",
    "b^* &=& \\dfrac{\\text{cov}(x,y)}{\\text{var}(x)}.\n",
    "\\end{eqnarray*}\n",
    "\n",
    "This is typically the preferred way of expressing the OLS coefficients.\n",
    "\n",
    "4. When will $b^*$ be large or small, depending on the relationship between $x$ and $y$ and the amount of \"noise\"/variance in $x$? What does $a^*$ represent?\n",
    "5. Suppose you have measurement error in $x$ which artificially inflates its variance (e.g. bad data cleaning). What happens to the $b^*$ coefficient? How will affect your ability to predict? (This phenomenon is called **attenuation**.)\n",
    "6. Let's return to the question of *outliers*. With your formula for the OLS coefficients $(a^*,b^*)$, explain what happens if you significantly increase a single value of the outcome/target/response variable $y_i$ or one of the predictor/explanatory/covariate variables $x_i$. If values for some extreme observations are exerting significant influence over the regression coefficients, will the model perform well on for more average observations?"
   ]
  }
 ],
 "metadata": {
  "kernelspec": {
   "display_name": "Python 3 (ipykernel)",
   "language": "python",
   "name": "python3"
  },
  "language_info": {
   "codemirror_mode": {
    "name": "ipython",
    "version": 3
   },
   "file_extension": ".py",
   "mimetype": "text/x-python",
   "name": "python",
   "nbconvert_exporter": "python",
   "pygments_lexer": "ipython3",
   "version": "3.10.4"
  }
 },
 "nbformat": 4,
 "nbformat_minor": 5
}
